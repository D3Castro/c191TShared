{
 "cells": [
  {
   "cell_type": "code",
   "execution_count": 5,
   "metadata": {
    "collapsed": true
   },
   "outputs": [],
   "source": [
    "from __future__ import division, print_function, unicode_literals\n",
    "import math"
   ]
  },
  {
   "cell_type": "code",
   "execution_count": 2,
   "metadata": {},
   "outputs": [
    {
     "name": "stdout",
     "output_type": "stream",
     "text": [
      "56000\n"
     ]
    }
   ],
   "source": [
    "L = (5554, 6296, 5590, 5707, 5496, 5027, 5469, 5817, 5434, 5610)\n",
    "print (sum(L))"
   ]
  },
  {
   "cell_type": "markdown",
   "metadata": {},
   "source": [
    "Calculate Gini from set "
   ]
  },
  {
   "cell_type": "code",
   "execution_count": 18,
   "metadata": {},
   "outputs": [
    {
     "name": "stdout",
     "output_type": "stream",
     "text": [
      "0.8997037206632652\n"
     ]
    }
   ],
   "source": [
    "Fi = [f/sum(L) for f in L]\n",
    "Gini = sum([f*(1-f) for f in Fi])\n",
    "print (Gini)"
   ]
  },
  {
   "cell_type": "markdown",
   "metadata": {
    "collapsed": true
   },
   "source": [
    "Calculate Entropy from set "
   ]
  },
  {
   "cell_type": "code",
   "execution_count": 7,
   "metadata": {},
   "outputs": [
    {
     "name": "stdout",
     "output_type": "stream",
     "text": [
      "3.3198076417940654\n"
     ]
    }
   ],
   "source": [
    "Fi = [f/sum(L) for f in L]\n",
    "Ent = sum([-1*f*math.log(f,2) for f in Fi])\n",
    "print (Ent)"
   ]
  },
  {
   "cell_type": "markdown",
   "metadata": {},
   "source": [
    "Calculate Information Gain"
   ]
  },
  {
   "cell_type": "code",
   "execution_count": 9,
   "metadata": {},
   "outputs": [
    {
     "name": "stdout",
     "output_type": "stream",
     "text": [
      "36127\n"
     ]
    }
   ],
   "source": [
    "Left = [5013, 541, 4435, 1153, 5006, 2965, 4393, 5342, 2795, 4484]\n",
    "print (sum(Left))"
   ]
  },
  {
   "cell_type": "code",
   "execution_count": 14,
   "metadata": {},
   "outputs": [
    {
     "name": "stdout",
     "output_type": "stream",
     "text": [
      "0.8804541791208823\n"
     ]
    }
   ],
   "source": [
    "Fi = [f/sum(Left) for f in Left]\n",
    "LGini = sum([f*(1-f) for f in Fi])\n",
    "print (LGini)"
   ]
  },
  {
   "cell_type": "code",
   "execution_count": 11,
   "metadata": {},
   "outputs": [
    {
     "name": "stdout",
     "output_type": "stream",
     "text": [
      "19783\n"
     ]
    }
   ],
   "source": [
    "Right = [451, 5755, 1155, 4554, 490, 2062, 1076, 475, 2639, 1126]\n",
    "print (sum(Right))"
   ]
  },
  {
   "cell_type": "code",
   "execution_count": 15,
   "metadata": {},
   "outputs": [
    {
     "name": "stdout",
     "output_type": "stream",
     "text": [
      "0.8224073741673256\n"
     ]
    }
   ],
   "source": [
    "Fi = [f/sum(Right) for f in Right]\n",
    "RGini = sum([f*(1-f) for f in Fi])\n",
    "print (RGini)"
   ]
  },
  {
   "cell_type": "code",
   "execution_count": 19,
   "metadata": {},
   "outputs": [
    {
     "name": "stdout",
     "output_type": "stream",
     "text": [
      "0.8585330930759342\n",
      "Information Gain =  0.04117062758733103\n"
     ]
    }
   ],
   "source": [
    "SplitGini = LGini*(sum(Left)/sum(L))+RGini*(sum(Right)/sum(L))\n",
    "print (SplitGini)\n",
    "print(\"Information Gain = \", Gini - SplitGini)"
   ]
  },
  {
   "cell_type": "code",
   "execution_count": null,
   "metadata": {
    "collapsed": true
   },
   "outputs": [],
   "source": []
  }
 ],
 "metadata": {
  "kernelspec": {
   "display_name": "Python 3",
   "language": "python",
   "name": "python3"
  },
  "language_info": {
   "codemirror_mode": {
    "name": "ipython",
    "version": 3
   },
   "file_extension": ".py",
   "mimetype": "text/x-python",
   "name": "python",
   "nbconvert_exporter": "python",
   "pygments_lexer": "ipython3",
   "version": "3.6.3"
  }
 },
 "nbformat": 4,
 "nbformat_minor": 2
}
