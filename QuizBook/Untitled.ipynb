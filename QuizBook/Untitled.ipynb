{
 "cells": [
  {
   "cell_type": "code",
   "execution_count": 20,
   "metadata": {
    "collapsed": true
   },
   "outputs": [],
   "source": [
    "import numpy as np\n",
    "import os\n",
    "import pandas\n",
    "import math"
   ]
  },
  {
   "cell_type": "code",
   "execution_count": 5,
   "metadata": {},
   "outputs": [],
   "source": [
    "pos = (1.56, 0.88, 0.25, 2.28, 2.89, 2.84, 0.51, 0.05, 2.65, 2.82)\n",
    "\n",
    "neg = (3.75, 7.32, 0.58, 6.01, 0.21, 8.32, 3.04, 4.32, 6.12, 2.92, 4.56, 2.00,\n",
    "       5.92, 6.08, 0.65, 9.66, 3.05, 6.84, 1.22, 0.34)\n",
    "pn = (1.56, 0.88, 0.25, 2.28, 2.89, 2.84, 0.51, 0.05, 2.65, 2.82,\n",
    "      3.75, 7.32, 0.58, 6.01, 0.21, 8.32, 3.04, 4.32, 6.12, 2.92, 4.56, 2.00,\n",
    "       5.92, 6.08, 0.65, 9.66, 3.05, 6.84, 1.22, 0.34)"
   ]
  },
  {
   "cell_type": "code",
   "execution_count": 6,
   "metadata": {},
   "outputs": [
    {
     "name": "stdout",
     "output_type": "stream",
     "text": [
      "0.946050925846093\n"
     ]
    }
   ],
   "source": [
    "Fi = [f/sum(pn) for f in pn]\n",
    "Gini = sum([f*(1-f) for f in Fi])\n",
    "print (Gini)"
   ]
  },
  {
   "cell_type": "code",
   "execution_count": null,
   "metadata": {
    "collapsed": true
   },
   "outputs": [],
   "source": []
  }
 ],
 "metadata": {
  "kernelspec": {
   "display_name": "Python 3",
   "language": "python",
   "name": "python3"
  },
  "language_info": {
   "codemirror_mode": {
    "name": "ipython",
    "version": 3
   },
   "file_extension": ".py",
   "mimetype": "text/x-python",
   "name": "python",
   "nbconvert_exporter": "python",
   "pygments_lexer": "ipython3",
   "version": "3.6.3"
  }
 },
 "nbformat": 4,
 "nbformat_minor": 2
}
